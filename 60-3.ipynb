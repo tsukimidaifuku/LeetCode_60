{
 "cells": [
  {
   "cell_type": "code",
   "execution_count": 2,
   "metadata": {},
   "outputs": [],
   "source": [
    "class ListNode:\n",
    "    def __init__(self, val=0, next=None):\n",
    "        self.val = val\n",
    "        self.next = next"
   ]
  },
  {
   "cell_type": "code",
   "execution_count": 4,
   "metadata": {},
   "outputs": [],
   "source": [
    "class Solution:\n",
    "    def hasCycle(self, head: \"Optional[ListNode]\") -> bool:\n",
    "        visited_nodes = {}\n",
    "        current_node = head\n",
    "\n",
    "        while current_node:\n",
    "            if current_node in visited_nodes:\n",
    "                return True\n",
    "\n",
    "            visited_nodes[current_node] = True\n",
    "            current_node = current_node.next\n",
    "\n",
    "        return False            "
   ]
  },
  {
   "cell_type": "code",
   "execution_count": 11,
   "metadata": {},
   "outputs": [],
   "source": [
    "data = [3,2,0,-4]\n",
    "\n",
    "tail = head = ListNode(data[0])\n",
    "\n",
    "for i in data[1:]:\n",
    "    tail.next = ListNode(i)\n",
    "    tail = tail.next\n",
    "\n",
    "head.next.next.next.next = head.next\n"
   ]
  },
  {
   "cell_type": "code",
   "execution_count": 14,
   "metadata": {},
   "outputs": [
    {
     "data": {
      "text/plain": [
       "__main__.ListNode"
      ]
     },
     "execution_count": 14,
     "metadata": {},
     "output_type": "execute_result"
    }
   ],
   "source": [
    "type(head)"
   ]
  },
  {
   "cell_type": "code",
   "execution_count": 19,
   "metadata": {},
   "outputs": [
    {
     "data": {
      "text/plain": [
       "True"
      ]
     },
     "execution_count": 19,
     "metadata": {},
     "output_type": "execute_result"
    }
   ],
   "source": [
    "obj = Solution()\n",
    "obj.hasCycle(head)"
   ]
  },
  {
   "cell_type": "code",
   "execution_count": 20,
   "metadata": {},
   "outputs": [
    {
     "data": {
      "text/plain": [
       "True"
      ]
     },
     "execution_count": 20,
     "metadata": {},
     "output_type": "execute_result"
    }
   ],
   "source": [
    "class Solution:\n",
    "    def hasCycle(self, head: \"Optional[ListNode]\") -> bool:\n",
    "        slow_pointer = head\n",
    "        fast_pointer = head\n",
    "\n",
    "        while fast_pointer and fast_pointer.next:\n",
    "            if slow_pointer == fast_pointer:\n",
    "                return True\n",
    "            \n",
    "            fast_pointer = fast_pointer.next.next\n",
    "            slow_pointer = slow_pointer.next\n",
    "\n",
    "        return False\n",
    "    \n",
    "obj = Solution()\n",
    "obj.hasCycle(head)"
   ]
  }
 ],
 "metadata": {
  "kernelspec": {
   "display_name": "Python 3",
   "language": "python",
   "name": "python3"
  },
  "language_info": {
   "codemirror_mode": {
    "name": "ipython",
    "version": 3
   },
   "file_extension": ".py",
   "mimetype": "text/x-python",
   "name": "python",
   "nbconvert_exporter": "python",
   "pygments_lexer": "ipython3",
   "version": "3.10.11"
  },
  "orig_nbformat": 4
 },
 "nbformat": 4,
 "nbformat_minor": 2
}
