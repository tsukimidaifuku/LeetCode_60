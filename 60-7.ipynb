{
 "cells": [
  {
   "cell_type": "markdown",
   "metadata": {},
   "source": [
    "# #7 Search in Rotated Sorted Array"
   ]
  },
  {
   "cell_type": "markdown",
   "metadata": {},
   "source": [
    "## Binary Search"
   ]
  },
  {
   "cell_type": "code",
   "execution_count": 3,
   "metadata": {},
   "outputs": [
    {
     "name": "stdout",
     "output_type": "stream",
     "text": [
      "15\n"
     ]
    }
   ],
   "source": [
    "from typing import List\n",
    "\n",
    "list_value: List[int] = [\n",
    "    100, 23, 33, 51, 70, 32, 34, 13, 3, 79, 8, 12, 16, 134, 83]\n",
    "sorted_list: List[int] = sorted(list_value)\n",
    "\n",
    "print(sorted_list)"
   ]
  },
  {
   "cell_type": "code",
   "execution_count": 8,
   "metadata": {},
   "outputs": [
    {
     "data": {
      "text/plain": [
       "3"
      ]
     },
     "execution_count": 8,
     "metadata": {},
     "output_type": "execute_result"
    }
   ],
   "source": [
    "sorted_list[0]"
   ]
  },
  {
   "cell_type": "code",
   "execution_count": 5,
   "metadata": {},
   "outputs": [],
   "source": [
    "def binary_search(sorted_list: List[int], search_value: int) -> bool:\n",
    "    left: int = 0\n",
    "    right: int = len(sorted_list) - 1\n",
    "\n",
    "    while left <= right:\n",
    "        mid: int = (left + right) // 2\n",
    "        if sorted_list[mid] == search_value:\n",
    "            return True\n",
    "        \n",
    "        elif sorted_list[mid] < search_value:\n",
    "            left = mid + 1\n",
    "            continue\n",
    "\n",
    "        else:\n",
    "            right = mid - 1\n",
    "            continue\n",
    "\n",
    "    return False"
   ]
  },
  {
   "cell_type": "code",
   "execution_count": 6,
   "metadata": {},
   "outputs": [
    {
     "name": "stdout",
     "output_type": "stream",
     "text": [
      "True\n"
     ]
    }
   ],
   "source": [
    "print(binary_search(sorted_list, 100))"
   ]
  },
  {
   "cell_type": "code",
   "execution_count": 7,
   "metadata": {},
   "outputs": [
    {
     "name": "stdout",
     "output_type": "stream",
     "text": [
      "False\n"
     ]
    }
   ],
   "source": [
    "print(binary_search(sorted_list, 101))"
   ]
  },
  {
   "cell_type": "code",
   "execution_count": 17,
   "metadata": {},
   "outputs": [],
   "source": [
    "def search(nums: List[int], target: int) -> int:\n",
    "    sorted_list = sorted(nums)\n",
    "\n",
    "    left_index = 0\n",
    "    right_index = len(nums) - 1\n",
    "\n",
    "    while left_index <= right_index:\n",
    "        mid = (left_index + right_index) // 2\n",
    "\n",
    "        if sorted_list[mid] == target:\n",
    "            return nums.index(target)\n",
    "\n",
    "        elif sorted_list[mid] < target:\n",
    "            left_index = mid + 1\n",
    "            continue\n",
    "\n",
    "        else:\n",
    "            right_index = mid -1\n",
    "            continue\n",
    "\n",
    "    return -1"
   ]
  },
  {
   "cell_type": "code",
   "execution_count": 18,
   "metadata": {},
   "outputs": [],
   "source": [
    "nums = [4,5,6,7,0,1,2]\n",
    "target = 0"
   ]
  },
  {
   "cell_type": "code",
   "execution_count": 19,
   "metadata": {},
   "outputs": [
    {
     "name": "stdout",
     "output_type": "stream",
     "text": [
      "4\n"
     ]
    }
   ],
   "source": [
    "print(search([4,5,6,7,0,1,2], 0))"
   ]
  }
 ],
 "metadata": {
  "kernelspec": {
   "display_name": "Python 3",
   "language": "python",
   "name": "python3"
  },
  "language_info": {
   "codemirror_mode": {
    "name": "ipython",
    "version": 3
   },
   "file_extension": ".py",
   "mimetype": "text/x-python",
   "name": "python",
   "nbconvert_exporter": "python",
   "pygments_lexer": "ipython3",
   "version": "3.11.3"
  },
  "orig_nbformat": 4
 },
 "nbformat": 4,
 "nbformat_minor": 2
}
