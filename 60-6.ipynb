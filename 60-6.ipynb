{
 "cells": [
  {
   "cell_type": "code",
   "execution_count": 1,
   "metadata": {},
   "outputs": [],
   "source": [
    "from typing import List\n",
    "\n",
    "class Solution:\n",
    "    def generateParenthesis(self, n: int) -> List[str]:\n",
    "        self.ans = []\n",
    "\n",
    "        def backtrack(curr, openB, closeB):\n",
    "            if openB == closeB == n:\n",
    "                self.ans.append(''.join(curr))\n",
    "                return\n",
    "\n",
    "            if closeB < openB:\n",
    "                curr.append(')')\n",
    "                backtrack(curr, openB, closeB+1)\n",
    "                curr.pop()\n",
    "\n",
    "            if openB < n:\n",
    "                curr.append('(')\n",
    "                backtrack(curr, openB+1, closeB)\n",
    "                curr.pop()\n",
    "\n",
    "        backtrack(['('],1,0)\n",
    "\n",
    "        return self.ans"
   ]
  },
  {
   "cell_type": "code",
   "execution_count": 4,
   "metadata": {},
   "outputs": [
    {
     "data": {
      "text/plain": [
       "['()()()()',\n",
       " '()()(())',\n",
       " '()(())()',\n",
       " '()(()())',\n",
       " '()((()))',\n",
       " '(())()()',\n",
       " '(())(())',\n",
       " '(()())()',\n",
       " '(()()())',\n",
       " '(()(()))',\n",
       " '((()))()',\n",
       " '((())())',\n",
       " '((()()))',\n",
       " '(((())))']"
      ]
     },
     "execution_count": 4,
     "metadata": {},
     "output_type": "execute_result"
    }
   ],
   "source": [
    "solution = Solution()\n",
    "solution.generateParenthesis(4)\n"
   ]
  }
 ],
 "metadata": {
  "kernelspec": {
   "display_name": "Python 3",
   "language": "python",
   "name": "python3"
  },
  "language_info": {
   "codemirror_mode": {
    "name": "ipython",
    "version": 3
   },
   "file_extension": ".py",
   "mimetype": "text/x-python",
   "name": "python",
   "nbconvert_exporter": "python",
   "pygments_lexer": "ipython3",
   "version": "3.11.3"
  },
  "orig_nbformat": 4
 },
 "nbformat": 4,
 "nbformat_minor": 2
}
